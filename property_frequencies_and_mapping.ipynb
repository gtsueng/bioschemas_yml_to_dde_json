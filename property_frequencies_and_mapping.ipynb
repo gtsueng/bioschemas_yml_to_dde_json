{
 "cells": [
  {
   "cell_type": "markdown",
   "metadata": {},
   "source": [
    "# Generating list of most common properties and expected types\n",
    "\n",
    "The DDE is undergoing many improvements and getting refactored on the back-end. To ensure that the DDE can be used by as many people as possible with little/no knowledge of the JSON schema, the most common bioschemas properties and their expected types are being evaluated for inclusions as default options."
   ]
  },
  {
   "cell_type": "code",
   "execution_count": 1,
   "metadata": {},
   "outputs": [],
   "source": [
    "import os\n",
    "import json\n",
    "import pandas\n",
    "import pathlib\n",
    "import yaml\n",
    "import requests"
   ]
  },
  {
   "cell_type": "code",
   "execution_count": 2,
   "metadata": {},
   "outputs": [],
   "source": [
    "#script_path = pathlib.Path(__file__).parent.absolute()\n",
    "tmp_dir = os.getcwd()\n",
    "parent_dir = os.path.dirname(tmp_dir)\n",
    "available = os.listdir(parent_dir)\n",
    "outputdirectory = os.path.join(parent_dir,'specifications')\n",
    "inputdirectory = os.path.join(parent_dir,'Bioschemas-Validator')\n",
    "input_profiles = os.path.join(inputdirectory,'profile_json')\n",
    "input_marginality = os.path.join(inputdirectory,'profile_marginality')\n",
    "input_yml = os.path.join(inputdirectory,'profile_yml')\n",
    "\n",
    "specifications = os.listdir(input_profiles)\n",
    "datapath = os.path.join('results','resulting json')"
   ]
  },
  {
   "cell_type": "code",
   "execution_count": 3,
   "metadata": {},
   "outputs": [],
   "source": [
    "#### Load the yaml file\n",
    "def get_yml_dict(theymlfile):\n",
    "    try:\n",
    "        with open(theymlfile,'r',encoding=\"utf8\") as ymlin:\n",
    "            tmpyml = yaml.load_all(ymlin, Loader=yaml.FullLoader)\n",
    "            for eachyml in tmpyml:\n",
    "                if '<!DOCTYPE HTML>' in eachyml:\n",
    "                    break\n",
    "                ymldict = eachyml\n",
    "    except:\n",
    "        with open(theymlfile,'r',encoding=\"latin1\") as ymlin:\n",
    "            tmpyml = yaml.load_all(ymlin, Loader=yaml.FullLoader)\n",
    "            for eachyml in tmpyml:\n",
    "                if '<!DOCTYPE HTML>' in eachyml:\n",
    "                    break\n",
    "                ymldict = eachyml\n",
    "    return(ymldict)"
   ]
  },
  {
   "cell_type": "code",
   "execution_count": 4,
   "metadata": {},
   "outputs": [],
   "source": [
    "datapath = os.path.join('results','frequency_tables')"
   ]
  },
  {
   "cell_type": "code",
   "execution_count": 5,
   "metadata": {},
   "outputs": [],
   "source": [
    "def clean_illegal_chars(theymlfile):\n",
    "    with open(theymlfile,'r',encoding=\"utf8\") as ymlin:\n",
    "        theymlfile.replace(\"#x0080\",\"\\#x0080\")\n",
    "    return(theymlfile)"
   ]
  },
  {
   "cell_type": "code",
   "execution_count": 6,
   "metadata": {},
   "outputs": [
    {
     "name": "stdout",
     "output_type": "stream",
     "text": [
      "Sample\n",
      "  specification    property  expected_type  marginality\n",
      "0        Beacon  aggregator      [Boolean]  Recommended\n",
      "1        Beacon     dataset  [DataCatalog]      Minimum\n",
      "Wall time: 1.06 s\n"
     ]
    }
   ],
   "source": [
    "%%time\n",
    "\n",
    "## Get frequency of expected types\n",
    "allproplist = []\n",
    "for eachspec in specifications:\n",
    "    tmpinputprofilepath = os.path.join(input_profiles,eachspec)\n",
    "    tmpinputmarginpath = os.path.join(input_marginality,eachspec)\n",
    "    tmpinputyml = os.path.join(input_yml,eachspec)\n",
    "    spec_profs = os.listdir(tmpinputprofilepath)\n",
    "    eachversion = spec_profs[-1]\n",
    "    thejsonfile = os.path.join(tmpinputprofilepath,eachversion)\n",
    "    themarginfile = os.path.join(tmpinputmarginpath,eachversion)\n",
    "    theymlfile = os.path.join(tmpinputyml,eachversion.replace('.json','.html'))\n",
    "    try:\n",
    "        ymldict = get_yml_dict(theymlfile)\n",
    "    except:\n",
    "        ymlin = clean_illegal_chars(theymlfile)\n",
    "        tmpyml = yaml.load_all(ymlin, Loader=yaml.FullLoader)\n",
    "        for eachyml in tmpyml:\n",
    "            if '<!DOCTYPE HTML>' in eachyml:\n",
    "                break\n",
    "            ymldict = eachyml\n",
    "    try:\n",
    "        mappingdict = ymldict['mapping']\n",
    "        for eachdict in mappingdict:\n",
    "            tmpdict = {'specification':eachspec,'property':eachdict['property'],'expected_type':eachdict['expected_types'],'marginality':eachdict['marginality']}\n",
    "            allproplist.append(tmpdict)\n",
    "    except:\n",
    "        print(eachspec)\n",
    "\n",
    "allpropdf = pandas.DataFrame(allproplist)\n",
    "print(allpropdf.head(n=2))"
   ]
  },
  {
   "cell_type": "code",
   "execution_count": 7,
   "metadata": {},
   "outputs": [],
   "source": [
    "## Get frequency of combinations of expected_type\n",
    "allpropdf['expected_types_raw'] = allpropdf['expected_type'].astype(str)\n",
    "prop_freq = allpropdf.groupby(['property','expected_types_raw']).size().reset_index(name='counts')\n",
    "combi_exp_freq = allpropdf.groupby('expected_types_raw').size().reset_index(name='counts')\n",
    "\n",
    "prop_freq.sort_values('counts',ascending=False,inplace=True)\n",
    "combi_exp_freq.sort_values('counts',ascending=False,inplace=True)\n",
    "\n",
    "#prop_freq.to_csv(os.path.join(datapath,'property_frequency.tsv'),sep='\\t',header=True)\n",
    "#combi_exp_freq.to_csv(os.path.join(datapath,'raw_expected_types_frequency.tsv'),sep='\\t',header=True)"
   ]
  },
  {
   "cell_type": "code",
   "execution_count": 8,
   "metadata": {},
   "outputs": [
    {
     "name": "stdout",
     "output_type": "stream",
     "text": [
      "         expected_type  counts\n",
      "74                Text     262\n",
      "77                 URL     237\n",
      "60       PropertyValue      71\n",
      "19        CreativeWork      66\n",
      "27         DefinedTerm      54\n",
      "..                 ...     ...\n",
      "38        HowToSection       1\n",
      "1   AdministrativeArea       1\n",
      "46       MedicalEntity       1\n",
      "47     MolecularEntity       1\n",
      "78     VirtualLocation       1\n",
      "\n",
      "[79 rows x 2 columns]\n"
     ]
    }
   ],
   "source": [
    "## Get frequency of base expected type\n",
    "expected_types = allpropdf.explode('expected_type')\n",
    "expected_freq = expected_types.groupby('expected_type').size().reset_index(name='counts')\n",
    "expected_freq.sort_values('counts',ascending=False,inplace=True)\n",
    "#expected_freq.to_csv(os.path.join(datapath,'expected_types_frequency.tsv'),sep='\\t',header=True)\n",
    "print(expected_freq)"
   ]
  },
  {
   "cell_type": "code",
   "execution_count": 9,
   "metadata": {},
   "outputs": [],
   "source": [
    "def create_base_object(schematype):\n",
    "    basedict = {\"@type\": schematype,\"type\": \"object\",\"properties\":{},\"required\":[]}\n",
    "    return basedict\n",
    "\n",
    "def replace_json_validation(expected_dict):\n",
    "    expected_dict[\"text\"]={\"type\":\"string\"}\n",
    "    expected_dict[\"url\"]={\"type\":\"string\",\"format\":\"uri\"}\n",
    "    expected_dict[\"number\"] = {\"type\":\"number\"}\n",
    "    expected_dict[\"integer\"] = {\"type\":\"integer\"}\n",
    "    expected_dict[\"boolean\"] = {\"type\":\"boolean\"}\n",
    "    expected_dict[\"date\"]={\"type\":\"string\",\"format\":\"date\"}\n",
    "    return expected_dict\n",
    "\n",
    "def translate(typestring):\n",
    "    if typestring == \"Text\":\n",
    "        newtype = {\"type\":\"string\"}\n",
    "    elif typestring == \"URL\":\n",
    "        newtype = {\"type\":\"string\",\"format\":\"uri\"}\n",
    "    elif typestring == \"Number\":\n",
    "        newtype = {\"type\":\"number\"}\n",
    "    elif typestring == \"Integer\":\n",
    "        newtype = {\"type\":\"integer\"}\n",
    "    elif typestring == \"Boolean\":\n",
    "        newtype = {\"type\":\"boolean\"}\n",
    "    elif typestring == \"Date\":\n",
    "        newtype = {\"type\":\"string\",\"format\":\"date\"}\n",
    "    else:\n",
    "        newtype = {\"type\":\"object\",\"@type\":typestring}\n",
    "    return newtype\n",
    "\n",
    "def generate_base_bs_rules(allpropdf):\n",
    "    ## Get required properties for each class\n",
    "    required_props = allpropdf.loc[allpropdf['marginality']==\"Minimum\"].copy()\n",
    "    #required_props.to_csv(os.path.join(datapath,'required_props.tsv'),sep='\\t',header=True)\n",
    "    required_props['expected_count'] = required_props.apply(lambda row: count_expected_types(row['expected_type']), axis=1)\n",
    "    required_props['single_expected'] = [x for x in required_props['expected_type']]\n",
    "    required_props = required_props.explode('single_expected')\n",
    "    bioschema_list = required_props['specification'].unique().tolist()\n",
    "    validation_dict = {}\n",
    "    for eachspec in bioschema_list:\n",
    "        tmpdf = required_props.loc[required_props['specification']==eachspec]\n",
    "        property_list = tmpdf['property'].unique().tolist()\n",
    "        property_dict = {}\n",
    "        for eachprop in property_list:\n",
    "            propdf = tmpdf.loc[tmpdf['property']==eachprop].copy()\n",
    "            if len(propdf)<2:\n",
    "                ## property has a single expected type\n",
    "                property_dict[eachprop] = translate(propdf.iloc[0]['single_expected'])\n",
    "            if len(propdf)>1:\n",
    "                propdf['translated'] = propdf.apply(lambda row: translate(row['single_expected']), axis=1)\n",
    "                property_dict[eachprop] = {\"oneOf\": propdf['translated'].tolist()}\n",
    "        validation_dict[eachspec.lower()] = {\"@type\":eachspec,\"type\":\"object\",\"properties\":property_dict,\"required\":property_list}\n",
    "    return validation_dict\n",
    "\n",
    "def count_expected_types(expected_type):\n",
    "    type_count = len(expected_type)\n",
    "    return type_count\n",
    "\n"
   ]
  },
  {
   "cell_type": "code",
   "execution_count": 10,
   "metadata": {},
   "outputs": [
    {
     "name": "stdout",
     "output_type": "stream",
     "text": [
      "{'text': {'type': 'string'}, 'url': {'type': 'string', 'format': 'uri'}, 'propertyvalue': {'@type': 'PropertyValue', 'type': 'object', 'properties': {}, 'required': []}, 'creativework': {'@type': 'CreativeWork', 'type': 'object', 'properties': {}, 'required': []}, 'definedterm': {'@type': 'DefinedTerm', 'type': 'object', 'properties': {}, 'required': []}, 'organization': {'@type': 'Organization', 'type': 'object', 'properties': {'description': {'type': 'string'}, 'legalName': {'type': 'string'}, 'name': {'type': 'string'}, 'sameAs': {'type': 'string', 'format': 'uri'}, 'topic': {'oneOf': [{'type': 'string'}, {'type': 'string', 'format': 'uri'}]}, 'type': {'oneOf': [{'type': 'string'}, {'type': 'string', 'format': 'uri'}]}}, 'required': ['description', 'legalName', 'name', 'sameAs', 'topic', 'type']}, 'person': {'@type': 'Person', 'type': 'object', 'properties': {'description': {'type': 'string'}, 'mainEntityOfPage': {'oneOf': [{'type': 'object', '@type': 'CreativeWork'}, {'type': 'string', 'format': 'uri'}]}, 'name': {'type': 'string'}}, 'required': ['description', 'mainEntityOfPage', 'name']}, 'date': {'type': 'string', 'format': 'date'}, 'biochementity': {'@type': 'BioChemEntity', 'type': 'object', 'properties': {}, 'required': []}, 'datetime': {'@type': 'DateTime', 'type': 'object', 'properties': {}, 'required': []}, 'imageobject': {'@type': 'ImageObject', 'type': 'object', 'properties': {}, 'required': []}, 'integer': {'type': 'integer'}, 'thing': {'@type': 'Thing', 'type': 'object', 'properties': {}, 'required': []}, 'product': {'@type': 'Product', 'type': 'object', 'properties': {}, 'required': []}, 'taxon': {'@type': 'Taxon', 'type': 'object', 'properties': {'name': {'type': 'string'}, 'taxonRank': {'oneOf': [{'type': 'object', '@type': 'PropertyValue'}, {'type': 'string'}, {'type': 'string', 'format': 'uri'}]}}, 'required': ['name', 'taxonRank']}, 'place': {'@type': 'Place', 'type': 'object', 'properties': {}, 'required': []}, 'boolean': {'type': 'boolean'}, 'language': {'@type': 'Language', 'type': 'object', 'properties': {}, 'required': []}, 'medicalcondition': {'@type': 'MedicalCondition', 'type': 'object', 'properties': {}, 'required': []}, 'event': {'@type': 'Event', 'type': 'object', 'properties': {'contact': {'oneOf': [{'type': 'object', '@type': 'Organization'}, {'type': 'object', '@type': 'Person'}]}, 'description': {'type': 'string'}, 'endDate': {'oneOf': [{'type': 'string', 'format': 'date'}, {'type': 'object', '@type': 'DateTime'}]}, 'eventType': {'type': 'object', '@type': 'EventType'}, 'hostInstitution': {'type': 'object', '@type': 'Organization'}, 'location': {'oneOf': [{'type': 'object', '@type': 'Place'}, {'type': 'object', '@type': 'PostalAddress'}, {'type': 'string'}]}, 'name': {'type': 'string'}, 'startDate': {'oneOf': [{'type': 'string', 'format': 'date'}, {'type': 'object', '@type': 'DateTime'}]}}, 'required': ['contact', 'description', 'endDate', 'eventType', 'hostInstitution', 'location', 'name', 'startDate']}, 'duration': {'@type': 'Duration', 'type': 'object', 'properties': {}, 'required': []}, 'gene': {'@type': 'Gene', 'type': 'object', 'properties': {'identifier': {'oneOf': [{'type': 'object', '@type': 'PropertyValue'}, {'type': 'string'}, {'type': 'string', 'format': 'uri'}]}, 'name': {'type': 'string'}}, 'required': ['identifier', 'name']}, 'postaladdress': {'@type': 'PostalAddress', 'type': 'object', 'properties': {}, 'required': []}, 'softwareapplication': {'@type': 'SoftwareApplication', 'type': 'object', 'properties': {}, 'required': []}, 'number': {'type': 'number'}, 'publicationissue': {'@type': 'PublicationIssue', 'type': 'object', 'properties': {'issueNumber': {'oneOf': [{'type': 'integer'}, {'type': 'string'}]}}, 'required': ['issueNumber']}, 'publicationvolume': {'@type': 'PublicationVolume', 'type': 'object', 'properties': {'url': {'type': 'string', 'format': 'uri'}, 'volumeNumber': {'oneOf': [{'type': 'integer'}, {'type': 'string'}]}}, 'required': ['url', 'volumeNumber']}, 'contactpoint': {'@type': 'ContactPoint', 'type': 'object', 'properties': {}, 'required': []}, 'journal': {'@type': 'Journal', 'type': 'object', 'properties': {'identifier': {'oneOf': [{'type': 'object', '@type': 'PropertyValue'}, {'type': 'string'}, {'type': 'string', 'format': 'uri'}]}, 'name': {'type': 'string'}}, 'required': ['identifier', 'name']}, 'computerlanguage': {'@type': 'ComputerLanguage', 'type': 'object', 'properties': {}, 'required': []}, 'scholarlyarticle': {'@type': 'ScholarlyArticle', 'type': 'object', 'properties': {'identifier': {'oneOf': [{'type': 'object', '@type': 'PropertyValue'}, {'type': 'string'}, {'type': 'string', 'format': 'uri'}]}, 'name': {'type': 'string'}}, 'required': ['identifier', 'name']}, 'offer': {'@type': 'Offer', 'type': 'object', 'properties': {}, 'required': []}, 'programmembership': {'@type': 'ProgramMembership', 'type': 'object', 'properties': {}, 'required': []}, 'audience': {'@type': 'Audience', 'type': 'object', 'properties': {}, 'required': []}, 'mediaobject': {'@type': 'MediaObject', 'type': 'object', 'properties': {}, 'required': []}, 'biochementity orurl': {'@type': 'BioChemEntity orURL', 'type': 'object', 'properties': {}, 'required': []}, 'taxonname': {'@type': 'TaxonName', 'type': 'object', 'properties': {'name': {'type': 'string'}}, 'required': ['name']}, 'trip': {'@type': 'Trip', 'type': 'object', 'properties': {}, 'required': []}, 'formalparameter': {'@type': 'FormalParameter', 'type': 'object', 'properties': {'name': {'type': 'string'}}, 'required': ['name']}, 'propertyvalue ortext orurl': {'@type': 'PropertyValue orText orURL', 'type': 'object', 'properties': {}, 'required': []}, 'quantitativevalue': {'@type': 'QuantitativeValue', 'type': 'object', 'properties': {}, 'required': []}, 'rna': {'@type': 'RNA', 'type': 'object', 'properties': {}, 'required': []}, 'categorycode': {'@type': 'CategoryCode', 'type': 'object', 'properties': {}, 'required': []}, 'datadownload': {'@type': 'DataDownload', 'type': 'object', 'properties': {}, 'required': []}, 'datacatalog': {'@type': 'DataCatalog', 'type': 'object', 'properties': {'description': {'type': 'string'}, 'keywords': {'type': 'string'}, 'name': {'type': 'string'}, 'provider': {'oneOf': [{'type': 'object', '@type': 'Organization'}, {'type': 'object', '@type': 'Person'}]}, 'url': {'type': 'string', 'format': 'uri'}}, 'required': ['description', 'keywords', 'name', 'provider', 'url']}, 'dna': {'@type': 'DNA', 'type': 'object', 'properties': {}, 'required': []}, 'sequencematchingmodel': {'@type': 'SequenceMatchingModel', 'type': 'object', 'properties': {}, 'required': []}, 'study': {'@type': 'Study', 'type': 'object', 'properties': {'author': {'oneOf': [{'type': 'object', '@type': 'Organization'}, {'type': 'object', '@type': 'Person'}]}, 'datePublished': {'type': 'string', 'format': 'date'}, 'description': {'type': 'string'}, 'identifier': {'oneOf': [{'type': 'object', '@type': 'PropertyValue'}, {'type': 'string'}, {'type': 'string', 'format': 'uri'}]}, 'name': {'type': 'string'}, 'studyDomain': {'oneOf': [{'type': 'object', '@type': 'PropertyValue'}, {'type': 'string'}, {'type': 'string', 'format': 'uri'}]}, 'studySubject': {'oneOf': [{'type': 'object', '@type': 'BioChemEntity'}, {'type': 'object', '@type': 'MedicalEntity'}]}}, 'required': ['author', 'datePublished', 'description', 'identifier', 'name', 'studyDomain', 'studySubject']}, 'review': {'@type': 'Review', 'type': 'object', 'properties': {}, 'required': []}, 'pricespecification': {'@type': 'PriceSpecification', 'type': 'object', 'properties': {}, 'required': []}, 'sequenceannotation': {'@type': 'SequenceAnnotation', 'type': 'object', 'properties': {}, 'required': []}, 'place orpostaladdress orpropertyvalue ortext orurl': {'@type': 'Place orPostalAddress orPropertyValue orText orURL', 'type': 'object', 'properties': {}, 'required': []}, 'action': {'@type': 'Action', 'type': 'object', 'properties': {}, 'required': []}, 'howtostep': {'@type': 'HowToStep', 'type': 'object', 'properties': {}, 'required': []}, 'periodical': {'@type': 'Periodical', 'type': 'object', 'properties': {}, 'required': []}, 'datarecord orurl': {'@type': 'DataRecord orURL', 'type': 'object', 'properties': {}, 'required': []}, 'aggregaterating': {'@type': 'AggregateRating', 'type': 'object', 'properties': {}, 'required': []}, 'alignmentobject': {'@type': 'AlignmentObject', 'type': 'object', 'properties': {}, 'required': []}, 'anatomicalstructure': {'@type': 'AnatomicalStructure', 'type': 'object', 'properties': {}, 'required': []}, 'anatomicalsystem': {'@type': 'AnatomicalSystem', 'type': 'object', 'properties': {}, 'required': []}, 'biosample': {'@type': 'BioSample', 'type': 'object', 'properties': {'description': {'type': 'string'}, 'identifier': {'oneOf': [{'type': 'object', '@type': 'PropertyValue'}, {'type': 'string'}, {'type': 'string', 'format': 'uri'}]}, 'name': {'type': 'string'}, 'url': {'type': 'string', 'format': 'uri'}}, 'required': ['description', 'identifier', 'name', 'url']}, 'chemicalsubstance': {'@type': 'ChemicalSubstance', 'type': 'object', 'properties': {'identifier': {'oneOf': [{'type': 'object', '@type': 'PropertyValue'}, {'type': 'string'}, {'type': 'string', 'format': 'uri'}]}, 'name': {'type': 'string'}, 'url': {'type': 'string', 'format': 'uri'}}, 'required': ['identifier', 'name', 'url']}, 'comment': {'@type': 'Comment', 'type': 'object', 'properties': {}, 'required': []}, 'correctioncomment': {'@type': 'CorrectionComment', 'type': 'object', 'properties': {}, 'required': []}, 'course': {'@type': 'Course', 'type': 'object', 'properties': {'description': {'type': 'string'}, 'keywords': {'oneOf': [{'type': 'object', '@type': 'DefinedTerm'}, {'type': 'string'}, {'type': 'string', 'format': 'uri'}]}, 'name': {'type': 'string'}}, 'required': ['description', 'keywords', 'name']}, 'courseinstance': {'@type': 'CourseInstance', 'type': 'object', 'properties': {'courseMode': {'oneOf': [{'type': 'string'}, {'type': 'string', 'format': 'uri'}]}, 'location': {'oneOf': [{'type': 'object', '@type': 'Place'}, {'type': 'object', '@type': 'PostalAddress'}, {'type': 'string'}, {'type': 'object', '@type': 'VirtualLocation'}]}}, 'required': ['courseMode', 'location']}, 'dataset': {'@type': 'Dataset', 'type': 'object', 'properties': {'description': {'type': 'string'}, 'identifier': {'oneOf': [{'type': 'object', '@type': 'PropertyValue'}, {'type': 'string'}, {'type': 'string', 'format': 'uri'}]}, 'keywords': {'oneOf': [{'type': 'object', '@type': 'DefinedTerm'}, {'type': 'string'}, {'type': 'string', 'format': 'uri'}]}, 'license': {'oneOf': [{'type': 'object', '@type': 'CreativeWork'}, {'type': 'string', 'format': 'uri'}]}, 'name': {'type': 'string'}, 'url': {'type': 'string', 'format': 'uri'}}, 'required': ['description', 'identifier', 'keywords', 'license', 'name', 'url']}, 'ownershipinfo': {'@type': 'OwnershipInfo', 'type': 'object', 'properties': {}, 'required': []}, 'demand': {'@type': 'Demand', 'type': 'object', 'properties': {}, 'required': []}, 'educationaloccupationalcredential': {'@type': 'EducationalOccupationalCredential', 'type': 'object', 'properties': {}, 'required': []}, 'eventstatustype': {'@type': 'EventStatusType', 'type': 'object', 'properties': {}, 'required': []}, 'eventtype': {'@type': 'EventType', 'type': 'object', 'properties': {}, 'required': []}, 'gendertype': {'@type': 'GenderType', 'type': 'object', 'properties': {}, 'required': []}, 'grant': {'@type': 'Grant', 'type': 'object', 'properties': {}, 'required': []}, 'howtosection': {'@type': 'HowToSection', 'type': 'object', 'properties': {}, 'required': []}, 'administrativearea': {'@type': 'AdministrativeArea', 'type': 'object', 'properties': {}, 'required': []}, 'medicalentity': {'@type': 'MedicalEntity', 'type': 'object', 'properties': {}, 'required': []}, 'molecularentity': {'@type': 'MolecularEntity', 'type': 'object', 'properties': {'identifier': {'oneOf': [{'type': 'object', '@type': 'PropertyValue'}, {'type': 'string'}, {'type': 'string', 'format': 'uri'}]}, 'name': {'type': 'string'}, 'url': {'type': 'string', 'format': 'uri'}}, 'required': ['identifier', 'name', 'url']}, 'virtuallocation': {'@type': 'VirtualLocation', 'type': 'object', 'properties': {}, 'required': []}, 'beacon': {'@type': 'Beacon', 'type': 'object', 'properties': {'dataset': {'type': 'object', '@type': 'DataCatalog'}, 'name': {'type': 'string'}, 'potentialAction': {'type': 'object', '@type': 'Action'}, 'provider': {'oneOf': [{'type': 'object', '@type': 'Organization'}, {'type': 'object', '@type': 'Person'}]}, 'rdf:type': {'type': 'string', 'format': 'uri'}, 'supportedRefs': {'type': 'string'}, 'url': {'type': 'string', 'format': 'uri'}}, 'required': ['dataset', 'name', 'potentialAction', 'provider', 'rdf:type', 'supportedRefs', 'url']}, 'computationaltool': {'@type': 'ComputationalTool', 'type': 'object', 'properties': {'description': {'type': 'string'}, 'name': {'type': 'string'}, 'url': {'type': 'string', 'format': 'uri'}}, 'required': ['description', 'name', 'url']}, 'computationalworkflow': {'@type': 'ComputationalWorkflow', 'type': 'object', 'properties': {'creator': {'oneOf': [{'type': 'object', '@type': 'Organization'}, {'type': 'object', '@type': 'Person'}]}, 'dateCreated': {'oneOf': [{'type': 'string', 'format': 'date'}, {'type': 'object', '@type': 'DateTime'}]}, 'input': {'type': 'object', '@type': 'FormalParameter'}, 'license': {'oneOf': [{'type': 'object', '@type': 'CreativeWork'}, {'type': 'string', 'format': 'uri'}]}, 'name': {'type': 'string'}, 'output': {'type': 'object', '@type': 'FormalParameter'}, 'programmingLanguage': {'oneOf': [{'type': 'object', '@type': 'ComputerLanguage'}, {'type': 'string'}]}, 'sdPublisher': {'oneOf': [{'type': 'object', '@type': 'Organization'}, {'type': 'object', '@type': 'Person'}]}, 'url': {'type': 'string', 'format': 'uri'}, 'version': {'oneOf': [{'type': 'number'}, {'type': 'string'}]}}, 'required': ['creator', 'dateCreated', 'input', 'license', 'name', 'output', 'programmingLanguage', 'sdPublisher', 'url', 'version']}, 'datarecord': {'@type': 'DataRecord', 'type': 'object', 'properties': {'identifier': {'oneOf': [{'type': 'object', '@type': 'PropertyValue'}, {'type': 'string'}, {'type': 'string', 'format': 'uri'}]}, 'mainEntity': {'type': 'object', '@type': 'Thing'}}, 'required': ['identifier', 'mainEntity']}, 'labprotocol': {'@type': 'LabProtocol', 'type': 'object', 'properties': {'bioSampleUsed': {'oneOf': [{'type': 'object', '@type': 'BioChemEntity'}, {'type': 'object', '@type': 'BioSample'}, {'type': 'object', '@type': 'DefinedTerm'}, {'type': 'string'}, {'type': 'string', 'format': 'uri'}, {'type': 'object', '@type': 'Taxon'}]}, 'headline': {'type': 'string'}, 'keywords': {'oneOf': [{'type': 'object', '@type': 'DefinedTerm'}, {'type': 'string'}, {'type': 'string', 'format': 'uri'}]}, 'labEquipmentUsed': {'oneOf': [{'type': 'object', '@type': 'DefinedTerm'}, {'type': 'string'}, {'type': 'string', 'format': 'uri'}]}, 'protocolPurpose': {'oneOf': [{'type': 'object', '@type': 'CreativeWork'}, {'type': 'string'}]}, 'reagentUsed': {'oneOf': [{'type': 'object', '@type': 'BioChemEntity'}, {'type': 'object', '@type': 'MolecularEntity'}, {'type': 'object', '@type': 'ChemicalSubstance'}, {'type': 'object', '@type': 'DefinedTerm'}, {'type': 'string'}, {'type': 'string', 'format': 'uri'}]}}, 'required': ['bioSampleUsed', 'headline', 'keywords', 'labEquipmentUsed', 'protocolPurpose', 'reagentUsed']}, 'phenotype': {'@type': 'Phenotype', 'type': 'object', 'properties': {'identifier': {'oneOf': [{'type': 'object', '@type': 'PropertyValue'}, {'type': 'string'}, {'type': 'string', 'format': 'uri'}]}, 'name': {'type': 'string'}}, 'required': ['identifier', 'name']}, 'protein': {'@type': 'Protein', 'type': 'object', 'properties': {'identifier': {'oneOf': [{'type': 'object', '@type': 'PropertyValue'}, {'type': 'string'}, {'type': 'string', 'format': 'uri'}]}, 'name': {'type': 'string'}}, 'required': ['identifier', 'name']}, 'proteinannotation': {'@type': 'ProteinAnnotation', 'type': 'object', 'properties': {'additionalType': {'type': 'string', 'format': 'uri'}, 'identifier': {'oneOf': [{'type': 'object', '@type': 'PropertyValue'}, {'type': 'string'}, {'type': 'string', 'format': 'uri'}]}, 'rdf:type': {'type': 'string', 'format': 'uri'}}, 'required': ['additionalType', 'identifier', 'rdf:type']}, 'proteinstructure': {'@type': 'ProteinStructure', 'type': 'object', 'properties': {'identifier': {'oneOf': [{'type': 'object', '@type': 'PropertyValue'}, {'type': 'string'}, {'type': 'string', 'format': 'uri'}]}}, 'required': ['identifier']}, 'semantictextannotation': {'@type': 'SemanticTextAnnotation', 'type': 'object', 'properties': {'mainEntity': {'type': 'object', '@type': 'DefinedTerm'}, 'text': {'type': 'string'}}, 'required': ['mainEntity', 'text']}, 'tool': {'@type': 'Tool', 'type': 'object', 'properties': {'description': {'type': 'string'}, 'name': {'type': 'string'}, 'url': {'type': 'string', 'format': 'uri'}}, 'required': ['description', 'name', 'url']}, 'trainingmaterial': {'@type': 'TrainingMaterial', 'type': 'object', 'properties': {'description': {'type': 'string'}, 'keywords': {'oneOf': [{'type': 'object', '@type': 'DefinedTerm'}, {'type': 'string'}, {'type': 'string', 'format': 'uri'}]}, 'name': {'type': 'string'}}, 'required': ['description', 'keywords', 'name']}}\n"
     ]
    }
   ],
   "source": [
    "## convert base expected type into json dictionary for expected types\n",
    "validation_dict = generate_base_bs_rules(allpropdf)\n",
    "\n",
    "expected_objects = pandas.read_csv(os.path.join(datapath,'expected_types_frequency.tsv'),delimiter='\\t',header=0,index_col=0)\n",
    "\n",
    "expected_dict = {}\n",
    "for i in range(len(expected_objects)):\n",
    "    schematype = expected_objects.iloc[i]['expected_type']\n",
    "    expected_dict[schematype.lower()]=create_base_object(schematype)\n",
    "\n",
    "expected_dict = replace_json_validation(expected_dict)\n",
    "expected_dict.update(validation_dict)\n",
    "\n",
    "print(expected_dict)\n",
    "\n",
    "#with open(os.path.join(datapath,'base_types.json'),'w') as outfile:\n",
    "#    outfile.write(json.dumps(expected_dict, indent=2, sort_keys=False))"
   ]
  },
  {
   "cell_type": "code",
   "execution_count": null,
   "metadata": {},
   "outputs": [],
   "source": [
    "print(expected_dict['beacon'])"
   ]
  },
  {
   "cell_type": "code",
   "execution_count": null,
   "metadata": {},
   "outputs": [],
   "source": []
  },
  {
   "cell_type": "markdown",
   "metadata": {},
   "source": [
    "### Defining rules for a validation builder\n",
    "\n",
    "This section is just to test the logic for creating combined JSON schema validation rules\n",
    "For example: how to convert one or many rules for single or multiple types of json validation rules\n",
    "\n",
    "Example cases:\n",
    "* ONE of a single rule type: ONE type: Text (string)\n",
    "* Many of a single rule type: Many of type: Text (string)\n",
    "* One of two potential rule types: Text (string) or Person (object)\n",
    "* One of two potential rule types: Text (string) or URL (Formatted Text)\n",
    "* Many of two potential rule types: Text (string) or Person (object)\n",
    "* Many of two potential rules types: Text (string) or URL (formatted string)"
   ]
  },
  {
   "cell_type": "code",
   "execution_count": null,
   "metadata": {},
   "outputs": [],
   "source": [
    "def get_single_rule(expected_dict,rule_key):\n",
    "    rule_dict = expected_dict[rule_key]\n",
    "    return rule_dict\n",
    "\n",
    "def get_one_many_rule(expected_dict,rule_list):\n",
    "    if len(set(rule_list))==1:\n",
    "        ## This is a list of a single rule, treat as such\n",
    "        rule_dict = get_single_rule(expected_dict,rule_list[0])\n",
    "    else:\n",
    "        rule_dict = {}\n",
    "        rule_val_list = []\n",
    "        for each_rule in rule_list:\n",
    "            rule_val_list.append(expected_dict[each_rule])\n",
    "        rule_dict[\"oneOf\"] = rule_val_list\n",
    "    return rule_dict\n",
    "\n",
    "def get_many_single_rule(expected_dict,rule_key):\n",
    "    rule_dict = {}\n",
    "    rule_val_list = []\n",
    "    rule_val_list.append(expected_dict[rule_key])\n",
    "    rule_val_list.append({\"type\":\"array\",\"items\":expected_dict[rule_key]})\n",
    "    rule_dict[\"oneOf\"] = rule_val_list\n",
    "    return rule_dict\n",
    "\n",
    "def get_many_many_rules(expected_dict,rule_list):\n",
    "    rule_dict = {}\n",
    "    ### check if they are all of the same json schema types\n",
    "    rule_set = set(rule_list)\n",
    "    if len(rule_set) == 1 and len(rule_list) == 1:\n",
    "        ## This is actually just a single rule placed in a list\n",
    "        rule_dict = get_many_single_rule(expected_dict,rule_list[0])\n",
    "    \n",
    "    elif len(rule_set) == 1 and len(rule_list) > 1:\n",
    "        ## This is actually just a multiples of a single rule in a list, treat as above\n",
    "        rule_dict = get_many_single_rule(expected_dict,rule_list[0])\n",
    "        \n",
    "    elif len(rule_set)> 1:\n",
    "        ## The options are mixed between types, use \"anyOf\" for the array\n",
    "        rule_val_list = []\n",
    "        for each_rule in rule_list:\n",
    "            rule_val_list.append(expected_dict[each_rule])\n",
    "            rule_val_list.append({\"type\":\"array\",\"items\":expected_dict[each_rule]})\n",
    "        rule_dict[\"anyOf\"] = rule_val_list\n",
    "        \n",
    "    return rule_dict\n",
    "\n",
    "\n",
    "def get_rules(expected_dict,rule_list,cardinality=\"one\"):\n",
    "    if isinstance(rule_list,str) == True:\n",
    "        if cardinality.lower() == \"one\":\n",
    "            rule_dict = get_single_rule(expected_dict,rule_list)\n",
    "        if cardinality.lower() == \"many\":\n",
    "            rule_dict = get_many_single_rule(expected_dict,rule_list)\n",
    "    if isinstance(rule_list,list):\n",
    "        if cardinality.lower() == \"one\":\n",
    "            rule_dict = get_one_many_rule(expected_dict,rule_list)\n",
    "        if cardinality.lower() == \"many\":\n",
    "            rule_dict = get_many_many_rules(expected_dict,rule_list)\n",
    "    return rule_dict"
   ]
  },
  {
   "cell_type": "code",
   "execution_count": null,
   "metadata": {},
   "outputs": [],
   "source": [
    "## Test the above functions\n",
    "cardinality = \"one\"\n",
    "\n",
    "with open(os.path.join(datapath,'base_types.json'),'r') as infile:\n",
    "    expected_dict = json.load(infile, encoding=\"UTF-8\")"
   ]
  },
  {
   "cell_type": "code",
   "execution_count": null,
   "metadata": {},
   "outputs": [],
   "source": [
    "## ONE of a single rule type: ONE type: Text (string)\n",
    "cardinality = \"One\"\n",
    "rule_dict = get_rules(expected_dict,\"text\",cardinality)\n",
    "print(rule_dict,'\\n')\n",
    "\n",
    "## Many of a single rule type: Many of type: Text (string)\n",
    "cardinality = \"MANY\"\n",
    "rule_dict = get_rules(expected_dict,\"text\",cardinality)\n",
    "print(rule_dict,'\\n')\n",
    "\n",
    "## One of two potential rule types: Text (string) or Person (object)\n",
    "cardinality = \"one\"\n",
    "rule_dict = get_rules(expected_dict,[\"text\",\"person\"],cardinality)\n",
    "print(rule_dict,'\\n')\n",
    "\n",
    "## One of two potential rule types: Text (string) or URL (Formatted Text)\n",
    "cardinality = \"one\"\n",
    "rule_dict = get_rules(expected_dict,[\"text\",\"url\"],cardinality)\n",
    "print(rule_dict,'\\n')\n",
    "\n",
    "## Many of two potential rule types: Text (string) or Person (object)\n",
    "cardinality = \"Many\"\n",
    "rule_dict = get_rules(expected_dict,[\"text\",\"person\"],cardinality)\n",
    "print(rule_dict,'\\n')\n",
    "\n",
    "## Many of two potential rules types: Text (string) or URL (formatted string)\n",
    "cardinality = \"Many\"\n",
    "rule_dict = get_rules(expected_dict,[\"text\",\"url\"],cardinality)\n",
    "print(rule_dict,'\\n')\n"
   ]
  },
  {
   "cell_type": "markdown",
   "metadata": {},
   "source": [
    "### generate property to rule mappings"
   ]
  },
  {
   "cell_type": "code",
   "execution_count": null,
   "metadata": {},
   "outputs": [],
   "source": [
    "## Generate mapping of properties with the same expected type\n",
    "from random import sample\n",
    "\n",
    "def clean_prop_list(stringproplist):\n",
    "    type_list = stringproplist.strip('[').strip(']').split(',')\n",
    "    clean_list = [x.strip(' ').replace(\"'\",\"\") for x in type_list]\n",
    "    rule_list = [x.lower() for x in clean_list]\n",
    "    return clean_list, rule_list\n",
    "\n",
    "def generate_id_from_proplist(stringproplist,propcount):\n",
    "    clean_list, rule_list = clean_prop_list(stringproplist)\n",
    "    idbase = [x[0] for x in clean_list]\n",
    "    letters = ['a','b','c','t','u','v','w','x','y','z']\n",
    "    randbase = sample(letters, k=5)\n",
    "    idhash = \"\".join(idbase)+'_'+str(propcount)+'_'+''.join(randbase)\n",
    "    return idhash\n",
    "    \n",
    "def generate_prop_rule_maps(datapath,expected_dict,prop_freq):\n",
    "    onemapdict = {}\n",
    "    manymapdict = {}\n",
    "    onerulemap = {}\n",
    "    manyrulemap = {}\n",
    "    onepropmap = {}\n",
    "    manypropmap = {}\n",
    "    oneproprule = {}\n",
    "    manyproprule = {}\n",
    "    prop_freq_multi = prop_freq.loc[prop_freq['counts']>1].copy() ## filter out properties that appear only once\n",
    "    for each_expected_type in prop_freq_multi['expected_types_raw'].unique().tolist():\n",
    "        propcount = prop_freq_multi.loc[prop_freq_multi['expected_types_raw']==each_expected_type]['counts'].sum()\n",
    "        proplist = prop_freq['property'].loc[prop_freq['expected_types_raw']==each_expected_type].unique().tolist()\n",
    "        clean_list, rule_list = clean_prop_list(each_expected_type)\n",
    "        idhash = generate_id_from_proplist(each_expected_type,propcount)\n",
    "        idhash_many = idhash+'_many'\n",
    "        onemapdict[idhash]=proplist\n",
    "        manymapdict[idhash_many]=proplist\n",
    "        oneruledict = get_rules(expected_dict,rule_list,\"one\")\n",
    "        onerulemap[idhash]=oneruledict\n",
    "        manyruledict = get_rules(expected_dict,rule_list,\"many\")\n",
    "        manyrulemap[idhash_many]=manyruledict\n",
    "        for eachprop in proplist:\n",
    "            onepropmap[eachprop]=idhash\n",
    "            manypropmap[eachprop]=idhash_many\n",
    "            oneproprule[eachprop] = oneruledict\n",
    "            manyproprule[eachprop] = manyruledict\n",
    "    filedict = {\"one_map.txt\":onemapdict,\"many_map.txt\":manymapdict,\"one_rule_map.txt\":onerulemap,\n",
    "                \"many_rule_map.txt\":manyrulemap,\"one_prop_map.txt\":onepropmap,\"many_prop_map.txt\":manypropmap,\n",
    "                \"one_prop_rule.txt\":oneproprule,\"many_prop_rule.txt\":manyproprule}\n",
    "    for eachkey in list(filedict.keys()):\n",
    "        with open(os.path.join(datapath,eachkey),'w+') as outfile:\n",
    "            outfile.write(json.dumps(filedict[eachkey]))\n",
    "    "
   ]
  },
  {
   "cell_type": "code",
   "execution_count": null,
   "metadata": {},
   "outputs": [],
   "source": [
    "datapath = os.path.join('results','mappings')\n",
    "generate_prop_rule_maps(datapath,expected_dict,prop_freq)"
   ]
  },
  {
   "cell_type": "code",
   "execution_count": null,
   "metadata": {},
   "outputs": [],
   "source": []
  },
  {
   "cell_type": "code",
   "execution_count": null,
   "metadata": {},
   "outputs": [],
   "source": []
  }
 ],
 "metadata": {
  "kernelspec": {
   "display_name": "Python 3 (ipykernel)",
   "language": "python",
   "name": "python3"
  },
  "language_info": {
   "codemirror_mode": {
    "name": "ipython",
    "version": 3
   },
   "file_extension": ".py",
   "mimetype": "text/x-python",
   "name": "python",
   "nbconvert_exporter": "python",
   "pygments_lexer": "ipython3",
   "version": "3.8.5"
  }
 },
 "nbformat": 4,
 "nbformat_minor": 4
}
