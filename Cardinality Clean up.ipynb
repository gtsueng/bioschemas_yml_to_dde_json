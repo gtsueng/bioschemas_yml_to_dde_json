{
 "cells": [
  {
   "cell_type": "markdown",
   "id": "745655ea",
   "metadata": {},
   "source": [
    "## Cardinality Clean up script\n",
    "\n",
    "This script adds `owl:cardinality` information into the validation which will be ignored by any json schema validator (as this is the validation section is not the appropriate place for `owl:cardinality`. It is strictly being added to ensure ease of use by downstream scripts."
   ]
  },
  {
   "cell_type": "code",
   "execution_count": 1,
   "id": "67185eb6",
   "metadata": {},
   "outputs": [],
   "source": [
    "import json\n",
    "import os\n",
    "from biothings_schema import Schema"
   ]
  },
  {
   "cell_type": "code",
   "execution_count": 3,
   "id": "e0152fe6",
   "metadata": {},
   "outputs": [],
   "source": [
    "def fix_owl (bioschema_spec):\n",
    "    context_spec = bioschema_spec['@context']\n",
    "    context_spec['owl'] = 'http://www.w3.org/2002/07/owl/'\n",
    "    return(context_spec)\n",
    "    \n",
    "def add_cardinality(propdict):\n",
    "    propertylist = propdict.keys()\n",
    "    for eachkey in propertylist:\n",
    "        tmpdict = propdict[eachkey]\n",
    "        dictstring = json.dumps(tmpdict)\n",
    "        if \"array\" in dictstring:\n",
    "            tmpdict['owl:cardinality'] = 'many'\n",
    "        else:\n",
    "            tmpdict['owl:cardinality'] = 'one'\n",
    "        propdict[eachkey] = tmpdict\n",
    "    return propdict  \n",
    "\n",
    "def update_file(tmpdir,filelist):\n",
    "    for eachfile in filelist:\n",
    "        print(\"file opened: \",eachfile)\n",
    "        with open(os.path.join(tmpdir,eachfile),'r', encoding='utf-8') as injson:\n",
    "            bioschema = json.load(injson)\n",
    "        newschema = {}\n",
    "        newschema['@context'] = fix_owl(bioschema)\n",
    "        graphlist = []\n",
    "        exportflag=False\n",
    "        for eachitem in bioschema['@graph']:\n",
    "            if \"$validation\" in list(eachitem.keys()):\n",
    "                propdict = eachitem['$validation']['properties']  \n",
    "                propdict = add_cardinality(propdict)\n",
    "                eachitem['$validation']['properties'] = propdict\n",
    "                graphlist.append(eachitem)\n",
    "                exportflag=True\n",
    "            else:\n",
    "                continue\n",
    "        if exportflag == True:\n",
    "            newschema['@graph'] = graphlist\n",
    "            with open(os.path.join(tmpdir,eachfile),'w') as outjson:\n",
    "                outjson.write(json.dumps(newschema, indent=4, sort_keys=False))\n",
    "            \n",
    "def update_specs(script_path):\n",
    "    resulting_json = os.path.join(script_path,'results','resulting_json')\n",
    "    specs = os.listdir(resulting_json)\n",
    "    for specclass in specs:\n",
    "        if '.txt' not in specclass:\n",
    "            tmpdir = os.path.join(resulting_json,specclass,'jsonld')\n",
    "            filelist = os.listdir(tmpdir)\n",
    "            update_file(tmpdir,filelist)\n",
    "\n",
    "def check_validation(script_path):\n",
    "    resulting_json = os.path.join(script_path,'results','resulting_json')\n",
    "    specs = os.listdir(resulting_json)\n",
    "    ignorelist = ['Gene'] ## things that were manually checked online but fail locally\n",
    "    workinglist = ['ChemicalSubstance','ComputationalWorkflow','failures.txt','FormalParameter',\n",
    "                   'Beacon','BioChemEntity','BioChemStructure','ComputationalTool',\n",
    "                   'Course','CourseInstance','DataCatalog','DataRecord','Dataset',\n",
    "                   'Event','Journal','LabProtocol','failures.txt','BioSample','DNA',\n",
    "                   'Disease','MolecularEntity','Organization','Person','Phenotype',\n",
    "                   'Protein','ProteinAnnotation','ProteinStructure','PublicationIssue',\n",
    "                   'PublicationVolume','RNA','Sample','ScholarlyArticle','SequenceRange',\n",
    "                   'SemanticTextAnnotation','SequenceAnnotation','SequenceMatchingModel',\n",
    "                   'Study','Enzyme','Taxon','TaxonName','TrainingMaterials'] ##validating fine, ignore to save time\n",
    "    #ignoreall = list(set(ignorelist).union(set(workinglist)))\n",
    "    #ignoreall = ['failures.txt']\n",
    "    ignoreall = workinglist\n",
    "    for specclass in specs:\n",
    "        print(specclass)\n",
    "        if specclass not in ignoreall:\n",
    "            tmpdir = os.path.join(resulting_json,specclass,'jsonld')\n",
    "            filelist = os.listdir(tmpdir)\n",
    "            for eachfile in filelist:\n",
    "                print(eachfile)\n",
    "                with open(os.path.join(tmpdir,eachfile),'r') as injson:\n",
    "                    bioschema = json.load(injson)\n",
    "                    sc = Schema(bioschema, base_schema=[\"schema.org\",\"bioschemastypes\",\"bioschemas\",\n",
    "                                                        \"bioschemasdrafts\",\"bioschemastypesdrafts\",\n",
    "                                                        \"bioschemasdeprecated\"])\n",
    "                    valipass = sc.validation"
   ]
  },
  {
   "cell_type": "code",
   "execution_count": 6,
   "id": "d71ce39f",
   "metadata": {},
   "outputs": [],
   "source": [
    "## Main\n",
    "script_path = ''\n",
    "#update_specs(script_path)"
   ]
  },
  {
   "cell_type": "markdown",
   "id": "036c1527",
   "metadata": {},
   "source": [
    "## Check validation for manual fixes"
   ]
  },
  {
   "cell_type": "code",
   "execution_count": 5,
   "id": "800e5f42",
   "metadata": {
    "scrolled": false
   },
   "outputs": [
    {
     "name": "stdout",
     "output_type": "stream",
     "text": [
      "Beacon\n",
      "BioChemEntity\n",
      "BioChemStructure\n",
      "BioSample\n",
      "ChemicalSubstance\n",
      "ComputationalTool\n",
      "ComputationalWorkflow\n",
      "Course\n",
      "CourseInstance\n",
      "DataCatalog\n",
      "DataRecord\n",
      "Dataset\n",
      "Disease\n",
      "DNA\n",
      "Enzyme\n",
      "Event\n",
      "failures.txt\n",
      "FormalParameter\n",
      "Gene\n",
      "Gene_v0.3-DRAFT-2018_08_21.json\n",
      "Gene_v0.3-RELEASE-2019_09_02.json\n",
      "Gene_v0.4-DRAFT-2018_11_09.json\n",
      "Gene_v0.4-RELEASE-2019_11_10.json\n",
      "Gene_v0.5-DRAFT-2019_06_14.json\n",
      "Gene_v0.6-DRAFT-2020_04_02.json\n",
      "Gene_v0.7-RELEASE.json\n",
      "Gene_v1.0-RELEASE.json\n",
      "Gene_v1.1-DRAFT.json\n"
     ]
    },
    {
     "ename": "SchemaValidationError",
     "evalue": "field \"hasSequenceAnnotation\" in \"$validation\" is not defined in this class or any of its parent classes",
     "output_type": "error",
     "traceback": [
      "\u001b[1;31m---------------------------------------------------------------------------\u001b[0m",
      "\u001b[1;31mSchemaValidationError\u001b[0m                     Traceback (most recent call last)",
      "\u001b[1;32m~\\AppData\\Local\\Temp/ipykernel_10088/2051320106.py\u001b[0m in \u001b[0;36m<module>\u001b[1;34m\u001b[0m\n\u001b[0;32m      1\u001b[0m \u001b[0mscript_path\u001b[0m \u001b[1;33m=\u001b[0m \u001b[1;34m''\u001b[0m\u001b[1;33m\u001b[0m\u001b[1;33m\u001b[0m\u001b[0m\n\u001b[1;32m----> 2\u001b[1;33m \u001b[0mcheck_validation\u001b[0m\u001b[1;33m(\u001b[0m\u001b[0mscript_path\u001b[0m\u001b[1;33m)\u001b[0m\u001b[1;33m\u001b[0m\u001b[1;33m\u001b[0m\u001b[0m\n\u001b[0m",
      "\u001b[1;32m~\\AppData\\Local\\Temp/ipykernel_10088/1927454125.py\u001b[0m in \u001b[0;36mcheck_validation\u001b[1;34m(script_path)\u001b[0m\n\u001b[0;32m     73\u001b[0m                 \u001b[1;32mwith\u001b[0m \u001b[0mopen\u001b[0m\u001b[1;33m(\u001b[0m\u001b[0mos\u001b[0m\u001b[1;33m.\u001b[0m\u001b[0mpath\u001b[0m\u001b[1;33m.\u001b[0m\u001b[0mjoin\u001b[0m\u001b[1;33m(\u001b[0m\u001b[0mtmpdir\u001b[0m\u001b[1;33m,\u001b[0m\u001b[0meachfile\u001b[0m\u001b[1;33m)\u001b[0m\u001b[1;33m,\u001b[0m\u001b[1;34m'r'\u001b[0m\u001b[1;33m)\u001b[0m \u001b[1;32mas\u001b[0m \u001b[0minjson\u001b[0m\u001b[1;33m:\u001b[0m\u001b[1;33m\u001b[0m\u001b[1;33m\u001b[0m\u001b[0m\n\u001b[0;32m     74\u001b[0m                     \u001b[0mbioschema\u001b[0m \u001b[1;33m=\u001b[0m \u001b[0mjson\u001b[0m\u001b[1;33m.\u001b[0m\u001b[0mload\u001b[0m\u001b[1;33m(\u001b[0m\u001b[0minjson\u001b[0m\u001b[1;33m)\u001b[0m\u001b[1;33m\u001b[0m\u001b[1;33m\u001b[0m\u001b[0m\n\u001b[1;32m---> 75\u001b[1;33m                     sc = Schema(bioschema, base_schema=[\"schema.org\",\"bioschemastypes\",\"bioschemas\",\n\u001b[0m\u001b[0;32m     76\u001b[0m                                                         \u001b[1;34m\"bioschemasdrafts\"\u001b[0m\u001b[1;33m,\u001b[0m\u001b[1;34m\"bioschemastypesdrafts\"\u001b[0m\u001b[1;33m,\u001b[0m\u001b[1;33m\u001b[0m\u001b[1;33m\u001b[0m\u001b[0m\n\u001b[0;32m     77\u001b[0m                                                         \"bioschemasdeprecated\"])\n",
      "\u001b[1;32m~\\Anaconda3\\envs\\outbreak\\lib\\site-packages\\biothings_schema\\schema.py\u001b[0m in \u001b[0;36m__init__\u001b[1;34m(self, schema, context, base_schema, validator_options)\u001b[0m\n\u001b[0;32m    185\u001b[0m         \u001b[0mbase_schema\u001b[0m \u001b[1;33m=\u001b[0m \u001b[0mbase_schema\u001b[0m \u001b[1;32mor\u001b[0m \u001b[0mself\u001b[0m\u001b[1;33m.\u001b[0m\u001b[0mget_base_schema_list\u001b[0m\u001b[1;33m(\u001b[0m\u001b[0m_schema\u001b[0m\u001b[1;33m)\u001b[0m\u001b[1;33m\u001b[0m\u001b[1;33m\u001b[0m\u001b[0m\n\u001b[0;32m    186\u001b[0m         \u001b[1;31m# print(self.namespace, base_schema)\u001b[0m\u001b[1;33m\u001b[0m\u001b[1;33m\u001b[0m\u001b[1;33m\u001b[0m\u001b[0m\n\u001b[1;32m--> 187\u001b[1;33m         \u001b[0mself\u001b[0m\u001b[1;33m.\u001b[0m\u001b[0mload_schema\u001b[0m\u001b[1;33m(\u001b[0m\u001b[0mschema\u001b[0m\u001b[1;33m=\u001b[0m\u001b[0m_schema\u001b[0m\u001b[1;33m,\u001b[0m \u001b[0mbase_schema\u001b[0m\u001b[1;33m=\u001b[0m\u001b[0mbase_schema\u001b[0m\u001b[1;33m,\u001b[0m \u001b[0mverbose\u001b[0m\u001b[1;33m=\u001b[0m\u001b[1;32mFalse\u001b[0m\u001b[1;33m)\u001b[0m\u001b[1;33m\u001b[0m\u001b[1;33m\u001b[0m\u001b[0m\n\u001b[0m\u001b[0;32m    188\u001b[0m \u001b[1;33m\u001b[0m\u001b[0m\n\u001b[0;32m    189\u001b[0m     \u001b[1;33m@\u001b[0m\u001b[0mproperty\u001b[0m\u001b[1;33m\u001b[0m\u001b[1;33m\u001b[0m\u001b[0m\n",
      "\u001b[1;32m~\\Anaconda3\\envs\\outbreak\\lib\\site-packages\\biothings_schema\\schema.py\u001b[0m in \u001b[0;36mload_schema\u001b[1;34m(self, schema, base_schema, verbose)\u001b[0m\n\u001b[0;32m    245\u001b[0m         \u001b[0mself\u001b[0m\u001b[1;33m.\u001b[0m\u001b[0mfull_schema_nx\u001b[0m \u001b[1;33m=\u001b[0m \u001b[0mmerge_schema_networkx\u001b[0m\u001b[1;33m(\u001b[0m\u001b[0mself\u001b[0m\u001b[1;33m.\u001b[0m\u001b[0mbase_schema_nx\u001b[0m\u001b[1;33m,\u001b[0m \u001b[0mself\u001b[0m\u001b[1;33m.\u001b[0m\u001b[0mschema_nx\u001b[0m\u001b[1;33m)\u001b[0m\u001b[1;33m\u001b[0m\u001b[1;33m\u001b[0m\u001b[0m\n\u001b[0;32m    246\u001b[0m         \u001b[0mself\u001b[0m\u001b[1;33m.\u001b[0m\u001b[0mvalidator\u001b[0m \u001b[1;33m=\u001b[0m \u001b[0mSchemaValidator\u001b[0m\u001b[1;33m(\u001b[0m\u001b[0mself\u001b[0m\u001b[1;33m.\u001b[0m\u001b[0mschema\u001b[0m\u001b[1;33m,\u001b[0m \u001b[0mself\u001b[0m\u001b[1;33m.\u001b[0m\u001b[0mfull_schema_nx\u001b[0m\u001b[1;33m,\u001b[0m \u001b[0mself\u001b[0m\u001b[1;33m.\u001b[0m\u001b[0mbase_schema\u001b[0m\u001b[1;33m,\u001b[0m \u001b[1;33m**\u001b[0m\u001b[0mself\u001b[0m\u001b[1;33m.\u001b[0m\u001b[0mvalidator_options\u001b[0m\u001b[1;33m)\u001b[0m\u001b[1;33m\u001b[0m\u001b[1;33m\u001b[0m\u001b[0m\n\u001b[1;32m--> 247\u001b[1;33m         \u001b[0mself\u001b[0m\u001b[1;33m.\u001b[0m\u001b[0mvalidator\u001b[0m\u001b[1;33m.\u001b[0m\u001b[0mvalidate_full_schema\u001b[0m\u001b[1;33m(\u001b[0m\u001b[1;33m)\u001b[0m\u001b[1;33m\u001b[0m\u001b[1;33m\u001b[0m\u001b[0m\n\u001b[0m\u001b[0;32m    248\u001b[0m \u001b[1;33m\u001b[0m\u001b[0m\n\u001b[0;32m    249\u001b[0m         \u001b[1;31m# split the schema networkx into individual ones\u001b[0m\u001b[1;33m\u001b[0m\u001b[1;33m\u001b[0m\u001b[1;33m\u001b[0m\u001b[0m\n",
      "\u001b[1;32m~\\Anaconda3\\envs\\outbreak\\lib\\site-packages\\biothings_schema\\validator.py\u001b[0m in \u001b[0;36mvalidate_full_schema\u001b[1;34m(self)\u001b[0m\n\u001b[0;32m    357\u001b[0m                 \u001b[0mself\u001b[0m\u001b[1;33m.\u001b[0m\u001b[0mvalidate_class_schema\u001b[0m\u001b[1;33m(\u001b[0m\u001b[0mrecord\u001b[0m\u001b[1;33m)\u001b[0m\u001b[1;33m\u001b[0m\u001b[1;33m\u001b[0m\u001b[0m\n\u001b[0;32m    358\u001b[0m                 \u001b[0mself\u001b[0m\u001b[1;33m.\u001b[0m\u001b[0mvalidate_class_label\u001b[0m\u001b[1;33m(\u001b[0m\u001b[0mrecord\u001b[0m\u001b[1;33m[\u001b[0m\u001b[1;34m\"@id\"\u001b[0m\u001b[1;33m]\u001b[0m\u001b[1;33m)\u001b[0m\u001b[1;33m\u001b[0m\u001b[1;33m\u001b[0m\u001b[0m\n\u001b[1;32m--> 359\u001b[1;33m                 \u001b[0mself\u001b[0m\u001b[1;33m.\u001b[0m\u001b[0mvalidate_validation_field\u001b[0m\u001b[1;33m(\u001b[0m\u001b[0mrecord\u001b[0m\u001b[1;33m)\u001b[0m\u001b[1;33m\u001b[0m\u001b[1;33m\u001b[0m\u001b[0m\n\u001b[0m\u001b[0;32m    360\u001b[0m             \u001b[1;32melif\u001b[0m \u001b[0mrecord\u001b[0m\u001b[1;33m[\u001b[0m\u001b[1;34m'@type'\u001b[0m\u001b[1;33m]\u001b[0m \u001b[1;33m==\u001b[0m \u001b[1;34m\"rdf:Property\"\u001b[0m\u001b[1;33m:\u001b[0m\u001b[1;33m\u001b[0m\u001b[1;33m\u001b[0m\u001b[0m\n\u001b[0;32m    361\u001b[0m                 \u001b[0mself\u001b[0m\u001b[1;33m.\u001b[0m\u001b[0mvalidate_property_schema\u001b[0m\u001b[1;33m(\u001b[0m\u001b[0mrecord\u001b[0m\u001b[1;33m)\u001b[0m\u001b[1;33m\u001b[0m\u001b[1;33m\u001b[0m\u001b[0m\n",
      "\u001b[1;32m~\\Anaconda3\\envs\\outbreak\\lib\\site-packages\\biothings_schema\\validator.py\u001b[0m in \u001b[0;36mvalidate_validation_field\u001b[1;34m(self, record)\u001b[0m\n\u001b[0;32m    302\u001b[0m                     \u001b[1;32mif\u001b[0m \u001b[1;32mnot\u001b[0m \u001b[0mmatched\u001b[0m\u001b[1;33m:\u001b[0m\u001b[1;33m\u001b[0m\u001b[1;33m\u001b[0m\u001b[0m\n\u001b[0;32m    303\u001b[0m                         \u001b[1;31m# raise ValueError(f'field \"{_property}\" in \"{VALIDATION_FIELD}\" is not defined in this class or any of its parent classes')\u001b[0m\u001b[1;33m\u001b[0m\u001b[1;33m\u001b[0m\u001b[1;33m\u001b[0m\u001b[0m\n\u001b[1;32m--> 304\u001b[1;33m                         self.report_validation_error(\n\u001b[0m\u001b[0;32m    305\u001b[0m                             \u001b[1;34mf'field \"{_property}\" in \"{VALIDATION_FIELD}\" is not defined in this class or any of its parent classes'\u001b[0m\u001b[1;33m,\u001b[0m\u001b[1;33m\u001b[0m\u001b[1;33m\u001b[0m\u001b[0m\n\u001b[0;32m    306\u001b[0m                             \u001b[0merror_type\u001b[0m\u001b[1;33m=\u001b[0m\u001b[1;34m\"invalid_validation_schema\"\u001b[0m\u001b[1;33m,\u001b[0m \u001b[0mfield\u001b[0m\u001b[1;33m=\u001b[0m\u001b[0m_property\u001b[0m\u001b[1;33m,\u001b[0m \u001b[0mrecord_id\u001b[0m\u001b[1;33m=\u001b[0m\u001b[0m_id\u001b[0m\u001b[1;33m\u001b[0m\u001b[1;33m\u001b[0m\u001b[0m\n",
      "\u001b[1;32m~\\Anaconda3\\envs\\outbreak\\lib\\site-packages\\biothings_schema\\validator.py\u001b[0m in \u001b[0;36mreport_validation_error\u001b[1;34m(self, err_msg, **kwargs)\u001b[0m\n\u001b[0;32m    127\u001b[0m         \u001b[0merr\u001b[0m \u001b[1;33m=\u001b[0m \u001b[0mSchemaValidationWarning\u001b[0m\u001b[1;33m(\u001b[0m\u001b[0merr_msg\u001b[0m\u001b[1;33m,\u001b[0m \u001b[1;33m**\u001b[0m\u001b[0mkwargs\u001b[0m\u001b[1;33m)\u001b[0m \u001b[1;32mif\u001b[0m \u001b[0mkwargs\u001b[0m\u001b[1;33m.\u001b[0m\u001b[0mget\u001b[0m\u001b[1;33m(\u001b[0m\u001b[1;34m'warning'\u001b[0m\u001b[1;33m,\u001b[0m \u001b[1;32mFalse\u001b[0m\u001b[1;33m)\u001b[0m \u001b[1;32melse\u001b[0m \u001b[0mSchemaValidationError\u001b[0m\u001b[1;33m(\u001b[0m\u001b[0merr_msg\u001b[0m\u001b[1;33m,\u001b[0m \u001b[1;33m**\u001b[0m\u001b[0mkwargs\u001b[0m\u001b[1;33m)\u001b[0m\u001b[1;33m\u001b[0m\u001b[1;33m\u001b[0m\u001b[0m\n\u001b[0;32m    128\u001b[0m         \u001b[1;32mif\u001b[0m \u001b[1;32mnot\u001b[0m \u001b[0merr\u001b[0m\u001b[1;33m.\u001b[0m\u001b[0mwarning\u001b[0m \u001b[1;32mand\u001b[0m \u001b[0mself\u001b[0m\u001b[1;33m.\u001b[0m\u001b[0mraise_on_validation_error\u001b[0m\u001b[1;33m:\u001b[0m\u001b[1;33m\u001b[0m\u001b[1;33m\u001b[0m\u001b[0m\n\u001b[1;32m--> 129\u001b[1;33m             \u001b[1;32mraise\u001b[0m \u001b[0merr\u001b[0m\u001b[1;33m\u001b[0m\u001b[1;33m\u001b[0m\u001b[0m\n\u001b[0m\u001b[0;32m    130\u001b[0m         \u001b[1;32melse\u001b[0m\u001b[1;33m:\u001b[0m\u001b[1;33m\u001b[0m\u001b[1;33m\u001b[0m\u001b[0m\n\u001b[0;32m    131\u001b[0m             \u001b[0mself\u001b[0m\u001b[1;33m.\u001b[0m\u001b[0mvalidation_errors\u001b[0m\u001b[1;33m.\u001b[0m\u001b[0mappend\u001b[0m\u001b[1;33m(\u001b[0m\u001b[0merr\u001b[0m\u001b[1;33m)\u001b[0m\u001b[1;33m\u001b[0m\u001b[1;33m\u001b[0m\u001b[0m\n",
      "\u001b[1;31mSchemaValidationError\u001b[0m: field \"hasSequenceAnnotation\" in \"$validation\" is not defined in this class or any of its parent classes"
     ]
    }
   ],
   "source": [
    "script_path = ''\n",
    "check_validation(script_path)"
   ]
  },
  {
   "cell_type": "code",
   "execution_count": null,
   "id": "97ea4d58",
   "metadata": {},
   "outputs": [],
   "source": []
  },
  {
   "cell_type": "code",
   "execution_count": null,
   "id": "c04249f4",
   "metadata": {},
   "outputs": [],
   "source": []
  }
 ],
 "metadata": {
  "kernelspec": {
   "display_name": "Python 3 (ipykernel)",
   "language": "python",
   "name": "python3"
  },
  "language_info": {
   "codemirror_mode": {
    "name": "ipython",
    "version": 3
   },
   "file_extension": ".py",
   "mimetype": "text/x-python",
   "name": "python",
   "nbconvert_exporter": "python",
   "pygments_lexer": "ipython3",
   "version": "3.8.5"
  }
 },
 "nbformat": 4,
 "nbformat_minor": 5
}
