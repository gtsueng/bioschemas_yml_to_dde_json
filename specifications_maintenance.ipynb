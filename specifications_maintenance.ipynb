{
 "cells": [
  {
   "cell_type": "markdown",
   "id": "712691f3",
   "metadata": {},
   "source": [
    "## One off scripts for doing re-organizing content in the specifications repository"
   ]
  },
  {
   "cell_type": "code",
   "execution_count": null,
   "id": "e65f53fb",
   "metadata": {},
   "outputs": [],
   "source": [
    "%%time\n",
    "import os\n",
    "from pathlib import Path\n",
    "import json\n",
    "import shutil\n",
    "\n",
    "script_path = os.getcwd()\n",
    "parent_path = os.path.dirname(script_path)\n",
    "#print(os.listdir(parent_path))\n",
    "bioschemas_spec_path = os.path.join(parent_path,'specifications')\n",
    "print(bioschemas_spec_path)\n",
    "\n",
    "spec_list = os.listdir(bioschemas_spec_path)\n",
    "\n",
    "for eachspec in spec_list:\n",
    "    if '.' not in eachspec:\n",
    "        jsonldpath = os.path.join(bioschemas_spec_path,eachspec,'jsonld')\n",
    "        try:\n",
    "            allspecs = [x for x in os.listdir(jsonldpath) if '.json' in x]\n",
    "            for eachjson in allspecs:\n",
    "                with open(os.path.join(jsonldpath,eachjson),'rb') as tmpfile:\n",
    "                    tmpjson = json.load(tmpfile)\n",
    "                    if '$validation' not in str(tmpjson['@graph']):\n",
    "                        moveit = True\n",
    "                    else:\n",
    "                        moveit = False\n",
    "                print(moveit)\n",
    "                tmpfile.close()\n",
    "                if moveit == True:\n",
    "                    if 'type' not in os.listdir(jsonldpath):\n",
    "                        os.mkdir(os.path.join(jsonldpath,'type'))\n",
    "                    shutil.move(os.path.join(jsonldpath,eachjson),os.path.join(jsonldpath,'type',eachjson))\n",
    "        except:\n",
    "            next"
   ]
  },
  {
   "cell_type": "markdown",
   "id": "8e765338",
   "metadata": {},
   "source": [
    "### Tests for Sahar's script"
   ]
  },
  {
   "cell_type": "code",
   "execution_count": 3,
   "id": "215fc40c",
   "metadata": {},
   "outputs": [],
   "source": [
    "import os\n",
    "import json\n",
    "import pandas as pd\n",
    "import time\n",
    "import requests"
   ]
  },
  {
   "cell_type": "code",
   "execution_count": 4,
   "id": "00bb52d7",
   "metadata": {},
   "outputs": [
    {
     "name": "stdout",
     "output_type": "stream",
     "text": [
      "['about', 'abridged', 'abstract', 'accelerationTime', 'acceptedAnswer']\n",
      "1452\n",
      "CPU times: total: 31.2 ms\n",
      "Wall time: 1.62 s\n"
     ]
    }
   ],
   "source": [
    "%%time\n",
    "check = pd.read_csv('https://schema.org/version/latest/schemaorg-current-https-properties.csv', header=0)\n",
    "label_list = check['label'].unique().tolist()\n",
    "print(label_list[0:5])\n",
    "print(len(label_list))\n"
   ]
  },
  {
   "cell_type": "code",
   "execution_count": 5,
   "id": "d9a3dec7",
   "metadata": {},
   "outputs": [
    {
     "name": "stdout",
     "output_type": "stream",
     "text": [
      "['about', 'abridged', 'abstract', 'accelerationTime', 'acceptedAnswer']\n",
      "1452\n",
      "CPU times: total: 46.9 ms\n",
      "Wall time: 1.44 s\n"
     ]
    }
   ],
   "source": [
    "%%time\n",
    "\n",
    "import csv\n",
    "import io\n",
    "\n",
    "url = 'https://schema.org/version/latest/schemaorg-current-https-properties.csv'\n",
    "\n",
    "r = requests.get(url)\n",
    "buff = io.StringIO(r.text)\n",
    "dr = csv.DictReader(buff)\n",
    "label_list = []\n",
    "for row in dr:\n",
    "    label_list.append(row['label'])\n",
    "print(label_list[0:5])\n",
    "print(len(label_list))"
   ]
  },
  {
   "cell_type": "code",
   "execution_count": 6,
   "id": "30824e93",
   "metadata": {},
   "outputs": [
    {
     "name": "stdout",
     "output_type": "stream",
     "text": [
      "['description', 'isInvolvedInBiologicalProcess', 'name']\n",
      "['anatomicalLocation']\n",
      "CPU times: total: 0 ns\n",
      "Wall time: 0 ns\n"
     ]
    }
   ],
   "source": [
    "%%time\n",
    "property_list = ('name','anatomicalLocation','description','isInvolvedInBiologicalProcess')\n",
    "schema_subset = list(set(label_list).intersection(property_list))\n",
    "not_in_schema = [x for x in property_list if x not in schema_subset]\n",
    "print(schema_subset)\n",
    "print(not_in_schema)\n"
   ]
  },
  {
   "cell_type": "code",
   "execution_count": null,
   "id": "1a1f71b5",
   "metadata": {},
   "outputs": [],
   "source": []
  }
 ],
 "metadata": {
  "kernelspec": {
   "display_name": "Python 3 (ipykernel)",
   "language": "python",
   "name": "python3"
  },
  "language_info": {
   "codemirror_mode": {
    "name": "ipython",
    "version": 3
   },
   "file_extension": ".py",
   "mimetype": "text/x-python",
   "name": "python",
   "nbconvert_exporter": "python",
   "pygments_lexer": "ipython3",
   "version": "3.8.13"
  }
 },
 "nbformat": 4,
 "nbformat_minor": 5
}
