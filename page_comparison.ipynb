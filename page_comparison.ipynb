{
 "cells": [
  {
   "cell_type": "markdown",
   "id": "688e7615",
   "metadata": {},
   "source": [
    "## Bioschemas JSON-LD and website page comparison\n",
    "\n",
    "This script runs through the bioschemas specification folder for JSON-LD files and compares it with the list of specifications from the bioschemas website `_profile` and `_type` pages to identify any specifications which are available on the web, but are missing corresponding JSON-LD files."
   ]
  },
  {
   "cell_type": "code",
   "execution_count": 1,
   "id": "c8b52f7f",
   "metadata": {},
   "outputs": [],
   "source": [
    "import os\n",
    "import requests\n",
    "import pandas as pd"
   ]
  },
  {
   "cell_type": "code",
   "execution_count": 9,
   "id": "d7c45770",
   "metadata": {},
   "outputs": [
    {
     "name": "stdout",
     "output_type": "stream",
     "text": [
      "C:\\Users\\gtsueng\\Anaconda3\\envs\\outbreak\\bioschemas\\bioschemas.github.io\\pages\\_types\n"
     ]
    }
   ],
   "source": [
    "tmp_dir = os.getcwd()\n",
    "parent_dir = os.path.dirname(tmp_dir)\n",
    "available = os.listdir(parent_dir)\n",
    "spec_dir = os.path.join(parent_dir,'specifications')\n",
    "profile_dir = os.path.join(parent_dir,'bioschemas.github.io','pages','_profiles')\n",
    "types_dir = os.path.join(parent_dir,'bioschemas.github.io','pages','_types')\n"
   ]
  },
  {
   "cell_type": "code",
   "execution_count": 24,
   "id": "28a4dc67",
   "metadata": {},
   "outputs": [],
   "source": [
    "def list_json_specs(spec_dir):\n",
    "    spec_folder_list = os.listdir(spec_dir)\n",
    "    spec_file_list = []\n",
    "    failurelist = []\n",
    "    for eachfolder in spec_folder_list:\n",
    "        try:\n",
    "            jsonldpath = os.path.join(spec_dir,eachfolder,'jsonld')\n",
    "            jsonfiles = os.listdir(jsonldpath)\n",
    "            for eachfile in jsonfiles:\n",
    "                spec_file_list.append({'specification':eachfolder,'filename':eachfile.replace('.jsonld','').replace('.json','')})\n",
    "        except:\n",
    "            failurelist.append(eachfolder)\n",
    "    spec_folder_df = pd.DataFrame(spec_file_list)\n",
    "    return spec_folder_df, failurelist\n",
    "\n",
    "\n",
    "def list_page_specs(spec_dir):\n",
    "    spec_folder_list = os.listdir(spec_dir)\n",
    "    spec_file_list = []\n",
    "    failurelist = []\n",
    "    for eachfolder in spec_folder_list:\n",
    "        try:\n",
    "            pagepath = os.path.join(spec_dir,eachfolder)\n",
    "            htmlfiles = os.listdir(pagepath)\n",
    "            for eachfile in htmlfiles:\n",
    "                spec_file_list.append({'specification':eachfolder,'filename':eachfile.replace('.html','').replace('.HTML','')})\n",
    "        except:\n",
    "            failurelist.append(eachfolder)\n",
    "    spec_folder_df = pd.DataFrame(spec_file_list)\n",
    "    return spec_folder_df, failurelist"
   ]
  },
  {
   "cell_type": "code",
   "execution_count": 51,
   "id": "d94cc1c2",
   "metadata": {},
   "outputs": [],
   "source": [
    "json_specs, jsonfails = list_json_specs(spec_dir)\n",
    "profile_pages, profile_fails = list_page_specs(profile_dir)\n",
    "types_pages, types_fails = list_page_specs(types_dir)\n",
    "\n",
    "json_specs['spec_name'] = [x.replace('-DEPRECATED','') for x in json_specs['filename'].tolist()]\n",
    "profile_pages['spec_name'] = profile_pages['specification'].astype(str).str.cat(profile_pages['filename'].astype(str),sep='_v')\n",
    "types_pages['spec_name'] = types_pages['specification'].astype(str).str.cat(types_pages['filename'].astype(str),sep='_v')\n",
    "\n",
    "\n",
    "missing_profiles_list = [x for x in profile_pages['spec_name'].tolist() if x not in json_specs['spec_name'].tolist()]\n",
    "missing_types_list = [x for x in types_pages['spec_name'] if x not in json_specs['spec_name']]\n",
    "\n",
    "missing_profiles = profile_pages.loc[profile_pages['spec_name'].isin(missing_profiles_list)].copy()\n",
    "missing_profiles['spec_type'] = 'profile'\n",
    "\n",
    "missing_types = types_pages.loc[types_pages['spec_name'].isin(missing_types_list)].copy()\n",
    "missing_types['spec_type'] = 'types'\n",
    "\n",
    "missing = pd.concat((missing_profiles,missing_types),ignore_index=True)\n",
    "missing.to_csv(os.path.join(tmp_dir,'results','missing_jsonld.tsv'),sep='\\t',header=True)"
   ]
  },
  {
   "cell_type": "code",
   "execution_count": null,
   "id": "43726ebb",
   "metadata": {},
   "outputs": [],
   "source": []
  },
  {
   "cell_type": "code",
   "execution_count": 29,
   "id": "d68ac5bd",
   "metadata": {},
   "outputs": [
    {
     "name": "stdout",
     "output_type": "stream",
     "text": [
      "        specification                                 filename\n",
      "0              Beacon  Beacon_v0.2-DRAFT-2018_04_23-DEPRECATED\n",
      "1       BioChemEntity               BioChemEntity_v0.7-RELEASE\n",
      "2       BioChemEntity                 BioChemEntity_v0.8-DRAFT\n",
      "3    BioChemStructure   BioChemStructure_v0.1-DRAFT-2019_06_20\n",
      "4           BioSample                   BioSample_v0.1-RELEASE\n",
      "..                ...                                      ...\n",
      "161  TrainingMaterial   TrainingMaterial_v0.4-DRAFT-2019_02_08\n",
      "162  TrainingMaterial   TrainingMaterial_v0.5-DRAFT-2019_02_25\n",
      "163  TrainingMaterial   TrainingMaterial_v0.6-DRAFT-2019_06_06\n",
      "164  TrainingMaterial   TrainingMaterial_v0.8-DRAFT-2020_10_06\n",
      "165  TrainingMaterial   TrainingMaterial_v0.9-DRAFT-2020_12_08\n",
      "\n",
      "[166 rows x 2 columns]\n"
     ]
    }
   ],
   "source": [
    "print(json_specs)"
   ]
  },
  {
   "cell_type": "code",
   "execution_count": null,
   "id": "875501fa",
   "metadata": {},
   "outputs": [],
   "source": []
  }
 ],
 "metadata": {
  "kernelspec": {
   "display_name": "Python 3 (ipykernel)",
   "language": "python",
   "name": "python3"
  },
  "language_info": {
   "codemirror_mode": {
    "name": "ipython",
    "version": 3
   },
   "file_extension": ".py",
   "mimetype": "text/x-python",
   "name": "python",
   "nbconvert_exporter": "python",
   "pygments_lexer": "ipython3",
   "version": "3.8.5"
  }
 },
 "nbformat": 4,
 "nbformat_minor": 5
}
